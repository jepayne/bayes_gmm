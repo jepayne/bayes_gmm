{
 "cells": [
  {
   "cell_type": "code",
   "execution_count": 1,
   "metadata": {
    "collapsed": true
   },
   "outputs": [],
   "source": [
    "%matplotlib inline\n",
    "\n",
    "import numpy as np\n",
    "import scipy as sp\n",
    "import matplotlib.pyplot as plt\n",
    "import seaborn as sns\n",
    "import pandas as pd\n",
    "\n",
    "from scipy.stats import multivariate_normal\n",
    "from scipy.stats import norm\n",
    "\n",
    "import statsmodels as sm\n",
    "import statsmodels.tsa.api as tsa\n",
    "from statsmodels.tsa.base.datetools import dates_from_str\n",
    "import statsmodels.formula.api as smf\n",
    "\n",
    "colors = sns.color_palette()\n",
    "plt.rc('text', usetex=True)\n",
    "plt.rc('font', family='serif')"
   ]
  },
  {
   "cell_type": "code",
   "execution_count": 31,
   "metadata": {
    "collapsed": true
   },
   "outputs": [],
   "source": [
    "# Example (but real) data from the statsmodel database\n",
    "mdata = sm.datasets.macrodata.load_pandas().data\n",
    "\n",
    "# prepare the dates index\n",
    "dates = mdata[['year', 'quarter']].astype(int).astype(str)\n",
    "quarterly = dates[\"year\"] + \"Q\" + dates[\"quarter\"]\n",
    "quarterly = dates_from_str(quarterly)\n",
    "\n",
    "mdata = mdata[['realgdp','realcons','realinv']]\n",
    "mdata.index = pd.DatetimeIndex(quarterly)\n",
    "data = np.log(mdata).diff().dropna()\n",
    "data = data.iloc[:, 1:]"
   ]
  },
  {
   "cell_type": "code",
   "execution_count": 32,
   "metadata": {
    "collapsed": false
   },
   "outputs": [
    {
     "data": {
      "text/plain": [
       "(202, 2)"
      ]
     },
     "execution_count": 32,
     "metadata": {},
     "output_type": "execute_result"
    }
   ],
   "source": [
    "data.shape"
   ]
  },
  {
   "cell_type": "code",
   "execution_count": 33,
   "metadata": {
    "collapsed": true
   },
   "outputs": [],
   "source": [
    "true_lag = 1\n",
    "\n",
    "model = tsa.VAR(data)\n",
    "results = model.fit(true_lag)"
   ]
  },
  {
   "cell_type": "code",
   "execution_count": 34,
   "metadata": {
    "collapsed": true
   },
   "outputs": [],
   "source": [
    "M = len(results.names)\n",
    "L = results.k_ar\n",
    "mu = results.intercept\n",
    "A = results.coefs    \n",
    "\n",
    "error = np.asarray(results.resid)\n",
    "T = error.shape[0]\n",
    "Sigma = (error.T @ error)/T"
   ]
  },
  {
   "cell_type": "code",
   "execution_count": 35,
   "metadata": {
    "collapsed": true
   },
   "outputs": [],
   "source": [
    "def stationary_dist(mu, A, Sigma):\n",
    "\n",
    "    M, L = A.shape[2], A.shape[0] \n",
    "    K = M*L\n",
    "    \n",
    "    mu_comp = np.zeros((K, 1))\n",
    "    mu_comp[:M, 0] = mu\n",
    "    A_row = np.hstack([A[i, :, :] for i in range(L)])\n",
    "    A_comp = np.vstack([A_row, \n",
    "                        np.hstack([np.eye(M*(L-1)), np.zeros((M*(L-1), M))])])\n",
    "    Sigma_comp = np.zeros((M*L, M*L))\n",
    "    Sigma_comp[:M, :M] = Sigma\n",
    "\n",
    "    mu_stationary = np.linalg.solve(np.eye(K) - A_comp, mu_comp)\n",
    "    Sigma_stationary = sp.linalg.solve_discrete_lyapunov(A_comp, Sigma_comp)\n",
    "\n",
    "    return mu_stationary, Sigma_stationary"
   ]
  },
  {
   "cell_type": "code",
   "execution_count": 113,
   "metadata": {
    "collapsed": true
   },
   "outputs": [],
   "source": [
    "# data generating process\n",
    "def true_model(N, mu, A, Sigma):\n",
    "    '''Simulating the true model'''\n",
    "    \n",
    "    M, L = A.shape[2], A.shape[0] \n",
    "    K = M*L\n",
    "    \n",
    "    mu_stationary, Sigma_stationary = stationary_dist(mu, A, Sigma)\n",
    "        \n",
    "    initial_x = multivariate_normal(mu_stationary.squeeze(), Sigma_stationary).rvs()\n",
    "    shocks = multivariate_normal(np.zeros(len(mu)), Sigma)\n",
    "    error = shocks.rvs(N - L).T\n",
    "    \n",
    "    X = np.zeros((M, N))\n",
    "    X[:, :L] = initial_x.reshape(L, M).T\n",
    "    \n",
    "    for t in range(N - L):\n",
    "        AX = np.zeros((M, 1))\n",
    "        for lag in range(L):\n",
    "            AX += A[lag, :, :] @ X[:, t + L - 1 - lag].reshape(M, 1)\n",
    "        X[:, L + t] = (mu.reshape(M, 1) + AX + error[:, t].reshape(M, 1)).squeeze()\n",
    "    \n",
    "    return pd.DataFrame(data = X.T, index = data.index[-N:]), error\n"
   ]
  },
  {
   "cell_type": "code",
   "execution_count": 125,
   "metadata": {
    "collapsed": true
   },
   "outputs": [],
   "source": [
    "simul, error_y = true_model(T, mu, A, Sigma)"
   ]
  },
  {
   "cell_type": "code",
   "execution_count": 126,
   "metadata": {
    "collapsed": false
   },
   "outputs": [],
   "source": [
    "simul = simul.sub(simul.mean(), axis='columns')"
   ]
  },
  {
   "cell_type": "code",
   "execution_count": 127,
   "metadata": {
    "collapsed": false
   },
   "outputs": [],
   "source": [
    "Y_path = np.asarray(simul)"
   ]
  },
  {
   "cell_type": "code",
   "execution_count": 128,
   "metadata": {
    "collapsed": false
   },
   "outputs": [],
   "source": [
    "Y_data = np.hstack([np.asarray(simul.iloc[1:, :]), np.asarray(simul.iloc[:-1, :])])"
   ]
  },
  {
   "cell_type": "markdown",
   "metadata": {},
   "source": [
    "## Generate a latent path"
   ]
  },
  {
   "cell_type": "code",
   "execution_count": 129,
   "metadata": {
    "collapsed": false
   },
   "outputs": [],
   "source": [
    "rho = .7\n",
    "sigma = .01\n",
    "\n",
    "x_path = []\n",
    "\n",
    "x0 = (sigma/np.sqrt(1.0 - rho*rho))*norm.rvs()\n",
    "x_path.append(x0)\n",
    "\n",
    "error_x = sigma*norm.rvs(size=200)\n",
    "\n",
    "for t in range(200):\n",
    "    x_path.append(rho*x_path[t] + error_x[t])\n",
    "X_path = np.asarray(x_path).reshape(201, 1)"
   ]
  },
  {
   "cell_type": "code",
   "execution_count": 137,
   "metadata": {
    "collapsed": false
   },
   "outputs": [],
   "source": [
    "shocks = np.vstack([error_y, error_x.reshape(1, 200)])"
   ]
  },
  {
   "cell_type": "markdown",
   "metadata": {},
   "source": [
    "## Generate returns"
   ]
  },
  {
   "cell_type": "code",
   "execution_count": 149,
   "metadata": {
    "collapsed": true
   },
   "outputs": [],
   "source": [
    "nu = np.asarray([[0.02, 0.01, 0.04, 0.0, -0.02, 0.02, 0.04, 0.005]]).T\n",
    "alpha = np.asarray([[.01, .05, .1],\n",
    "                    [.02, .1, .0],\n",
    "                    [-.3, -.2, .05],\n",
    "                    [.006, .02, .12],\n",
    "                    [.03, -.1, .03],\n",
    "                    [-.3, -.2, .05],\n",
    "                    [.03, .02, .09],\n",
    "                    [-.02, .01, .06]])"
   ]
  },
  {
   "cell_type": "code",
   "execution_count": 151,
   "metadata": {
    "collapsed": false
   },
   "outputs": [],
   "source": [
    "logR = nu - np.diag(alpha @ alpha.T).reshape(8, 1)/2 + alpha @ shocks"
   ]
  },
  {
   "cell_type": "code",
   "execution_count": 159,
   "metadata": {
    "collapsed": false
   },
   "outputs": [],
   "source": [
    "simul_data = np.hstack([Y_data, logR.T])"
   ]
  },
  {
   "cell_type": "code",
   "execution_count": 168,
   "metadata": {
    "collapsed": false
   },
   "outputs": [],
   "source": [
    "np.savetxt('../data/data.dat', simul_data, fmt='% 2.10f', delimiter=' ')"
   ]
  },
  {
   "cell_type": "code",
   "execution_count": 171,
   "metadata": {
    "collapsed": false
   },
   "outputs": [],
   "source": [
    "np.savetxt('../data/initial_particle.dat', X_path, fmt='% 2.10f', delimiter=' ')"
   ]
  },
  {
   "cell_type": "code",
   "execution_count": 172,
   "metadata": {
    "collapsed": false
   },
   "outputs": [
    {
     "data": {
      "text/plain": [
       "array([[[ 0.2485817218,  0.0251747264],\n",
       "        [ 3.2743679974,  0.0136133571]]])"
      ]
     },
     "execution_count": 172,
     "metadata": {},
     "output_type": "execute_result"
    }
   ],
   "source": [
    "A"
   ]
  },
  {
   "cell_type": "code",
   "execution_count": 174,
   "metadata": {
    "collapsed": false
   },
   "outputs": [
    {
     "data": {
      "text/plain": [
       "array([[ 0.0065171165,  0.          ],\n",
       "       [ 0.0061470262,  0.0400707285]])"
      ]
     },
     "execution_count": 174,
     "metadata": {},
     "output_type": "execute_result"
    }
   ],
   "source": [
    "np.linalg.cholesky(Sigma)"
   ]
  },
  {
   "cell_type": "code",
   "execution_count": null,
   "metadata": {
    "collapsed": true
   },
   "outputs": [],
   "source": []
  }
 ],
 "metadata": {
  "anaconda-cloud": {},
  "kernelspec": {
   "display_name": "Python [conda root]",
   "language": "python",
   "name": "conda-root-py"
  },
  "language_info": {
   "codemirror_mode": {
    "name": "ipython",
    "version": 3
   },
   "file_extension": ".py",
   "mimetype": "text/x-python",
   "name": "python",
   "nbconvert_exporter": "python",
   "pygments_lexer": "ipython3",
   "version": "3.5.2"
  }
 },
 "nbformat": 4,
 "nbformat_minor": 2
}
